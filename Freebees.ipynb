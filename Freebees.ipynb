{
 "cells": [
  {
   "cell_type": "markdown",
   "metadata": {},
   "source": [
    "# Mari Mulai\n",
    "Pertama Pastikan bahwa packages di bawah sudah terinstal.\n",
    "\n",
    "- selenium\n",
    "- re\n",
    "- pandas\n"
   ]
  },
  {
   "cell_type": "markdown",
   "metadata": {},
   "source": [
    "Kedua pastikan sudah mendownload chrome driver\n",
    "\n",
    "dan menyimpannya di lokasi yang sama dengan note ini"
   ]
  },
  {
   "cell_type": "code",
   "execution_count": null,
   "metadata": {},
   "outputs": [],
   "source": [
    "from selenium import webdriver \n",
    "import re\n",
    "import pandas as pd \n",
    "from selenium.webdriver.support.ui import WebDriverWait \n",
    "from selenium.webdriver.support import expected_conditions as EC\n",
    "from selenium.webdriver.common.by import By"
   ]
  },
  {
   "cell_type": "code",
   "execution_count": null,
   "metadata": {},
   "outputs": [],
   "source": [
    "link = pd.read_excel(\"test_data_scaraping_ig.xlsx\")"
   ]
  },
  {
   "cell_type": "code",
   "execution_count": null,
   "metadata": {},
   "outputs": [],
   "source": [
    "link =link['Link'].values.tolist()"
   ]
  },
  {
   "cell_type": "code",
   "execution_count": null,
   "metadata": {},
   "outputs": [],
   "source": [
    "driver = webdriver.Chrome()"
   ]
  },
  {
   "cell_type": "code",
   "execution_count": null,
   "metadata": {},
   "outputs": [],
   "source": [
    "url = link[0:100]\n",
    "df = pd.DataFrame(columns = ['username', 'follower', 'following', 'total_post', 'link'])"
   ]
  },
  {
   "cell_type": "code",
   "execution_count": null,
   "metadata": {
    "scrolled": true
   },
   "outputs": [],
   "source": [
    "# Ini yang work\n",
    "for x in url:\n",
    "    driver.get(x)\n",
    "    if driver.find_elements_by_xpath('//*[@class=\"_7UhW9      x-6xq    qyrsm KV-D4          uL8Hv     l4b0S    \"]') == []:\n",
    "        v_username = wait.until(EC.presence_of_element_located(\n",
    "                                (By.XPATH,'//*[@class = \"_7UhW9       fKFbl yUEEX   KV-D4              fDxYl     \"]'))).text\n",
    "        v_follower = wait.until(EC.presence_of_element_located(\n",
    "                                (By.XPATH,'//*[@class = \"k9GMp \"]/li[2]'))).text\n",
    "        v_following = wait.until(EC.presence_of_element_located(\n",
    "                                (By.XPATH,'//*[@class = \"k9GMp \"]/li[3]'))).text\n",
    "        v_total_post = wait.until(EC.presence_of_element_located(\n",
    "                                (By.XPATH,'//*[@class = \"k9GMp \"]/li[1]'))).text\n",
    "        v_link = x\n",
    "        df.loc[len(df)] = [v_username, v_follower, v_following, v_total_post, v_link]\n",
    "    else:\n",
    "        continue\n",
    "df"
   ]
  },
  {
   "cell_type": "code",
   "execution_count": null,
   "metadata": {},
   "outputs": [],
   "source": [
    "df.to_excel(\"freebees1_100.xlsx\")"
   ]
  }
 ],
 "metadata": {
  "kernelspec": {
   "display_name": "Python 3",
   "language": "python",
   "name": "python3"
  },
  "language_info": {
   "codemirror_mode": {
    "name": "ipython",
    "version": 3
   },
   "file_extension": ".py",
   "mimetype": "text/x-python",
   "name": "python",
   "nbconvert_exporter": "python",
   "pygments_lexer": "ipython3",
   "version": "3.8.5"
  }
 },
 "nbformat": 4,
 "nbformat_minor": 2
}
